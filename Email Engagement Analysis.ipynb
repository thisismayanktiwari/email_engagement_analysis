{
 "cells": [
  {
   "cell_type": "markdown",
   "id": "civil-speed",
   "metadata": {},
   "source": [
    "# Email Engagement Analysis"
   ]
  },
  {
   "cell_type": "markdown",
   "id": "handy-nursery",
   "metadata": {},
   "source": [
    "## Business case <a name='business_case'/>\n",
    "Your university is trying to answer questions on email engagement. The school is\n",
    "worried about the perception of email spam, and want to reduce the number of emails\n",
    "sent to students.\n",
    "To focus on email engagement means that you are looking at how students interact with\n",
    "emails from a school. For example, do they:\n",
    "- Open the email?\n",
    "- Read the content?\n",
    "- Click on links?\n",
    "- Follow a call to action?\n"
   ]
  },
  {
   "cell_type": "markdown",
   "id": "warming-benchmark",
   "metadata": {},
   "source": [
    "## Table of Contents\n",
    "\n",
    "- [Business case](#business_case) \n",
    "- [Intalling the requirements](#requirements)\n",
    "- [Exploring the data](#exploring)\n",
    "- [Analysis](#analysis)\n",
    "    - [Q1. What are the average number of emails that are being sent per student?](#q1)\n",
    "    - [Q2. What is the average open rate per student?](#q2)\n",
    "    - [Q3. How many emails remain unopened (count and %)? ](#q3)\n",
    "    - [Q4. How many emails does it take (number of delivered) to get students to open an email?](#q4)\n",
    "    - [Q5. Among students who unsubscribed (emailUnsubscribed), how many emails on average were they sent?](#q5)\n",
    "    - [Q6. How does email engagement change over the course of enrollment milestones (Prospects→ Applicants→ Admitted) ?](#q6)\n",
    "    - [Q7. Are there “windows” where applicants/deposited students complete more actions? ](#q7)\n",
    "    - [Q8. Compute an “engagement score” that combines the actions that lead to higher conversion. ](#q8)"
   ]
  },
  {
   "cell_type": "markdown",
   "id": "mature-southwest",
   "metadata": {},
   "source": [
    "### Installing the requirements  <a name='requirements'/>"
   ]
  },
  {
   "cell_type": "code",
   "execution_count": 1,
   "id": "bronze-verse",
   "metadata": {},
   "outputs": [],
   "source": [
    "#importing packages and requirements\n",
    "import matplotlib.pyplot as plt\n",
    "import pandas as pd\n",
    "import os.path\n",
    "\n",
    "home = os.path.expanduser('~')"
   ]
  },
  {
   "cell_type": "code",
   "execution_count": 2,
   "id": "armed-design",
   "metadata": {},
   "outputs": [],
   "source": [
    "#importing datasets\n",
    "path_users = f'{home}/Projects/Email Engagement/Data sets/users.csv'\n",
    "path_actions = f'{home}/Projects/Email Engagement/Data sets/actions.csv'\n",
    "\n",
    "users = pd.read_csv(path_users, low_memory=False)\n",
    "actions = pd.read_csv(path_actions, low_memory=False)"
   ]
  },
  {
   "cell_type": "markdown",
   "id": "faced-routine",
   "metadata": {},
   "source": [
    "### Exploring the data  <a name=\"exploring\"/>"
   ]
  },
  {
   "cell_type": "code",
   "execution_count": 3,
   "id": "homeless-delicious",
   "metadata": {},
   "outputs": [
    {
     "data": {
      "text/html": [
       "<div>\n",
       "<style scoped>\n",
       "    .dataframe tbody tr th:only-of-type {\n",
       "        vertical-align: middle;\n",
       "    }\n",
       "\n",
       "    .dataframe tbody tr th {\n",
       "        vertical-align: top;\n",
       "    }\n",
       "\n",
       "    .dataframe thead th {\n",
       "        text-align: right;\n",
       "    }\n",
       "</style>\n",
       "<table border=\"1\" class=\"dataframe\">\n",
       "  <thead>\n",
       "    <tr style=\"text-align: right;\">\n",
       "      <th></th>\n",
       "      <th>Deposit</th>\n",
       "      <th>Admit</th>\n",
       "      <th>Apps Started</th>\n",
       "      <th>active term</th>\n",
       "      <th>Major*</th>\n",
       "      <th>Prospects</th>\n",
       "      <th>Apps Submit</th>\n",
       "      <th>Address Home Country</th>\n",
       "      <th>Created At</th>\n",
       "      <th>Date Of Birth</th>\n",
       "      <th>...</th>\n",
       "      <th>Milestone Prospect Date</th>\n",
       "      <th>Milestone Prospect Source</th>\n",
       "      <th>Milestone Unsubscribe Email Date</th>\n",
       "      <th>Milestone Unsubscribe Sms Date</th>\n",
       "      <th>Milestone Unsubscribe Sms Email</th>\n",
       "      <th>Milestone Unsubscribe Sms Number</th>\n",
       "      <th>Milestone Visit Date</th>\n",
       "      <th>Milestone Waitlist Date</th>\n",
       "      <th>Milestone Withdraw Date</th>\n",
       "      <th>Milestone Withdraw Term</th>\n",
       "    </tr>\n",
       "  </thead>\n",
       "  <tbody>\n",
       "    <tr>\n",
       "      <th>0</th>\n",
       "      <td>0</td>\n",
       "      <td>0</td>\n",
       "      <td>0</td>\n",
       "      <td>Fall 2019</td>\n",
       "      <td>Technion-Cornell Dual Masters Degree in Connec...</td>\n",
       "      <td>0</td>\n",
       "      <td>0</td>\n",
       "      <td>USA</td>\n",
       "      <td>12/28/17 16:02</td>\n",
       "      <td>NaN</td>\n",
       "      <td>...</td>\n",
       "      <td>NaN</td>\n",
       "      <td>NaN</td>\n",
       "      <td>1/7/19 21:07</td>\n",
       "      <td>NaN</td>\n",
       "      <td>NaN</td>\n",
       "      <td>NaN</td>\n",
       "      <td>NaN</td>\n",
       "      <td>NaN</td>\n",
       "      <td>NaN</td>\n",
       "      <td>NaN</td>\n",
       "    </tr>\n",
       "    <tr>\n",
       "      <th>1</th>\n",
       "      <td>0</td>\n",
       "      <td>0</td>\n",
       "      <td>0</td>\n",
       "      <td>Fall 2019</td>\n",
       "      <td>Master of Engineering in Electrical and Comput...</td>\n",
       "      <td>0</td>\n",
       "      <td>0</td>\n",
       "      <td>USA</td>\n",
       "      <td>12/28/17 16:03</td>\n",
       "      <td>NaN</td>\n",
       "      <td>...</td>\n",
       "      <td>NaN</td>\n",
       "      <td>NaN</td>\n",
       "      <td>NaN</td>\n",
       "      <td>NaN</td>\n",
       "      <td>NaN</td>\n",
       "      <td>NaN</td>\n",
       "      <td>NaN</td>\n",
       "      <td>NaN</td>\n",
       "      <td>NaN</td>\n",
       "      <td>NaN</td>\n",
       "    </tr>\n",
       "    <tr>\n",
       "      <th>2</th>\n",
       "      <td>0</td>\n",
       "      <td>0</td>\n",
       "      <td>0</td>\n",
       "      <td>Fall 2019</td>\n",
       "      <td>Johnson Cornell Tech MBA</td>\n",
       "      <td>1</td>\n",
       "      <td>0</td>\n",
       "      <td>TUR</td>\n",
       "      <td>12/28/17 16:10</td>\n",
       "      <td>NaN</td>\n",
       "      <td>...</td>\n",
       "      <td>2/8/18 0:25</td>\n",
       "      <td>workflows</td>\n",
       "      <td>NaN</td>\n",
       "      <td>NaN</td>\n",
       "      <td>NaN</td>\n",
       "      <td>NaN</td>\n",
       "      <td>NaN</td>\n",
       "      <td>NaN</td>\n",
       "      <td>NaN</td>\n",
       "      <td>NaN</td>\n",
       "    </tr>\n",
       "    <tr>\n",
       "      <th>3</th>\n",
       "      <td>0</td>\n",
       "      <td>0</td>\n",
       "      <td>0</td>\n",
       "      <td>Fall 2019</td>\n",
       "      <td>Master of Engineering in Computer Science</td>\n",
       "      <td>1</td>\n",
       "      <td>0</td>\n",
       "      <td>USA</td>\n",
       "      <td>12/28/17 16:13</td>\n",
       "      <td>NaN</td>\n",
       "      <td>...</td>\n",
       "      <td>2/13/18 22:00</td>\n",
       "      <td>NaN</td>\n",
       "      <td>9/5/18 22:19</td>\n",
       "      <td>NaN</td>\n",
       "      <td>NaN</td>\n",
       "      <td>NaN</td>\n",
       "      <td>NaN</td>\n",
       "      <td>NaN</td>\n",
       "      <td>NaN</td>\n",
       "      <td>NaN</td>\n",
       "    </tr>\n",
       "    <tr>\n",
       "      <th>4</th>\n",
       "      <td>0</td>\n",
       "      <td>0</td>\n",
       "      <td>0</td>\n",
       "      <td>Fall 2019</td>\n",
       "      <td>Master of Engineering in Operations Research a...</td>\n",
       "      <td>1</td>\n",
       "      <td>0</td>\n",
       "      <td>IND</td>\n",
       "      <td>12/28/17 16:17</td>\n",
       "      <td>NaN</td>\n",
       "      <td>...</td>\n",
       "      <td>10/23/18 15:28</td>\n",
       "      <td>NaN</td>\n",
       "      <td>NaN</td>\n",
       "      <td>NaN</td>\n",
       "      <td>NaN</td>\n",
       "      <td>NaN</td>\n",
       "      <td>NaN</td>\n",
       "      <td>NaN</td>\n",
       "      <td>NaN</td>\n",
       "      <td>NaN</td>\n",
       "    </tr>\n",
       "  </tbody>\n",
       "</table>\n",
       "<p>5 rows × 60 columns</p>\n",
       "</div>"
      ],
      "text/plain": [
       "   Deposit  Admit  Apps Started active term  \\\n",
       "0        0      0             0   Fall 2019   \n",
       "1        0      0             0   Fall 2019   \n",
       "2        0      0             0   Fall 2019   \n",
       "3        0      0             0   Fall 2019   \n",
       "4        0      0             0   Fall 2019   \n",
       "\n",
       "                                              Major*  Prospects  Apps Submit  \\\n",
       "0  Technion-Cornell Dual Masters Degree in Connec...          0            0   \n",
       "1  Master of Engineering in Electrical and Comput...          0            0   \n",
       "2                           Johnson Cornell Tech MBA          1            0   \n",
       "3          Master of Engineering in Computer Science          1            0   \n",
       "4  Master of Engineering in Operations Research a...          1            0   \n",
       "\n",
       "  Address Home Country      Created At Date Of Birth  ...  \\\n",
       "0                  USA  12/28/17 16:02           NaN  ...   \n",
       "1                  USA  12/28/17 16:03           NaN  ...   \n",
       "2                  TUR  12/28/17 16:10           NaN  ...   \n",
       "3                  USA  12/28/17 16:13           NaN  ...   \n",
       "4                  IND  12/28/17 16:17           NaN  ...   \n",
       "\n",
       "  Milestone Prospect Date Milestone Prospect Source  \\\n",
       "0                     NaN                       NaN   \n",
       "1                     NaN                       NaN   \n",
       "2             2/8/18 0:25                 workflows   \n",
       "3           2/13/18 22:00                       NaN   \n",
       "4          10/23/18 15:28                       NaN   \n",
       "\n",
       "  Milestone Unsubscribe Email Date  Milestone Unsubscribe Sms Date  \\\n",
       "0                     1/7/19 21:07                             NaN   \n",
       "1                              NaN                             NaN   \n",
       "2                              NaN                             NaN   \n",
       "3                     9/5/18 22:19                             NaN   \n",
       "4                              NaN                             NaN   \n",
       "\n",
       "  Milestone Unsubscribe Sms Email  Milestone Unsubscribe Sms Number  \\\n",
       "0                             NaN                               NaN   \n",
       "1                             NaN                               NaN   \n",
       "2                             NaN                               NaN   \n",
       "3                             NaN                               NaN   \n",
       "4                             NaN                               NaN   \n",
       "\n",
       "   Milestone Visit Date Milestone Waitlist Date Milestone Withdraw Date  \\\n",
       "0                   NaN                     NaN                     NaN   \n",
       "1                   NaN                     NaN                     NaN   \n",
       "2                   NaN                     NaN                     NaN   \n",
       "3                   NaN                     NaN                     NaN   \n",
       "4                   NaN                     NaN                     NaN   \n",
       "\n",
       "  Milestone Withdraw Term  \n",
       "0                     NaN  \n",
       "1                     NaN  \n",
       "2                     NaN  \n",
       "3                     NaN  \n",
       "4                     NaN  \n",
       "\n",
       "[5 rows x 60 columns]"
      ]
     },
     "execution_count": 3,
     "metadata": {},
     "output_type": "execute_result"
    }
   ],
   "source": [
    "users.head(5)"
   ]
  },
  {
   "cell_type": "code",
   "execution_count": 4,
   "id": "loaded-bronze",
   "metadata": {},
   "outputs": [
    {
     "data": {
      "text/html": [
       "<div>\n",
       "<style scoped>\n",
       "    .dataframe tbody tr th:only-of-type {\n",
       "        vertical-align: middle;\n",
       "    }\n",
       "\n",
       "    .dataframe tbody tr th {\n",
       "        vertical-align: top;\n",
       "    }\n",
       "\n",
       "    .dataframe thead th {\n",
       "        text-align: right;\n",
       "    }\n",
       "</style>\n",
       "<table border=\"1\" class=\"dataframe\">\n",
       "  <thead>\n",
       "    <tr style=\"text-align: right;\">\n",
       "      <th></th>\n",
       "      <th>Action</th>\n",
       "      <th>Bounce Categorie</th>\n",
       "      <th>Browser Family</th>\n",
       "      <th>Campaign Date</th>\n",
       "      <th>Campaign Guid</th>\n",
       "      <th>Campaign Month</th>\n",
       "      <th>Campaign Population</th>\n",
       "      <th>Campaign Year</th>\n",
       "      <th>Device Type</th>\n",
       "      <th>Dvce Ismobile</th>\n",
       "      <th>...</th>\n",
       "      <th>Page Urlhost</th>\n",
       "      <th>Page Urlpath</th>\n",
       "      <th>Seed</th>\n",
       "      <th>Sms Content</th>\n",
       "      <th>Survey Guid</th>\n",
       "      <th>Target Url</th>\n",
       "      <th>Timestamp</th>\n",
       "      <th>Tracker Ident</th>\n",
       "      <th>Updated At</th>\n",
       "      <th>Variant Id</th>\n",
       "    </tr>\n",
       "  </thead>\n",
       "  <tbody>\n",
       "    <tr>\n",
       "      <th>0</th>\n",
       "      <td>pageview</td>\n",
       "      <td>NaN</td>\n",
       "      <td>Chrome</td>\n",
       "      <td>NaN</td>\n",
       "      <td>NaN</td>\n",
       "      <td>NaN</td>\n",
       "      <td>Other</td>\n",
       "      <td>NaN</td>\n",
       "      <td>Other</td>\n",
       "      <td>False</td>\n",
       "      <td>...</td>\n",
       "      <td>tech.cornell.edu</td>\n",
       "      <td>/</td>\n",
       "      <td>NaN</td>\n",
       "      <td>NaN</td>\n",
       "      <td>NaN</td>\n",
       "      <td>NaN</td>\n",
       "      <td>6/26/19 17:57</td>\n",
       "      <td>NaN</td>\n",
       "      <td>6/26/19 18:20</td>\n",
       "      <td>NaN</td>\n",
       "    </tr>\n",
       "    <tr>\n",
       "      <th>1</th>\n",
       "      <td>pageview</td>\n",
       "      <td>NaN</td>\n",
       "      <td>Chrome</td>\n",
       "      <td>NaN</td>\n",
       "      <td>NaN</td>\n",
       "      <td>NaN</td>\n",
       "      <td>Other</td>\n",
       "      <td>NaN</td>\n",
       "      <td>Other</td>\n",
       "      <td>False</td>\n",
       "      <td>...</td>\n",
       "      <td>tech.cornell.edu</td>\n",
       "      <td>/programs/phd/phd-studies/</td>\n",
       "      <td>NaN</td>\n",
       "      <td>NaN</td>\n",
       "      <td>NaN</td>\n",
       "      <td>NaN</td>\n",
       "      <td>10/1/19 18:16</td>\n",
       "      <td>NaN</td>\n",
       "      <td>10/1/19 18:20</td>\n",
       "      <td>NaN</td>\n",
       "    </tr>\n",
       "    <tr>\n",
       "      <th>2</th>\n",
       "      <td>pageview</td>\n",
       "      <td>NaN</td>\n",
       "      <td>Safari</td>\n",
       "      <td>NaN</td>\n",
       "      <td>NaN</td>\n",
       "      <td>NaN</td>\n",
       "      <td>Other</td>\n",
       "      <td>NaN</td>\n",
       "      <td>Other</td>\n",
       "      <td>False</td>\n",
       "      <td>...</td>\n",
       "      <td>tech.cornell.edu</td>\n",
       "      <td>/news/category/research/</td>\n",
       "      <td>NaN</td>\n",
       "      <td>NaN</td>\n",
       "      <td>NaN</td>\n",
       "      <td>NaN</td>\n",
       "      <td>6/26/19 17:58</td>\n",
       "      <td>NaN</td>\n",
       "      <td>6/26/19 18:20</td>\n",
       "      <td>NaN</td>\n",
       "    </tr>\n",
       "    <tr>\n",
       "      <th>3</th>\n",
       "      <td>pageview</td>\n",
       "      <td>NaN</td>\n",
       "      <td>Chrome</td>\n",
       "      <td>NaN</td>\n",
       "      <td>NaN</td>\n",
       "      <td>NaN</td>\n",
       "      <td>Other</td>\n",
       "      <td>NaN</td>\n",
       "      <td>Other</td>\n",
       "      <td>False</td>\n",
       "      <td>...</td>\n",
       "      <td>tech.cornell.edu</td>\n",
       "      <td>/admissions/admissions-events/</td>\n",
       "      <td>NaN</td>\n",
       "      <td>NaN</td>\n",
       "      <td>NaN</td>\n",
       "      <td>NaN</td>\n",
       "      <td>10/1/19 18:11</td>\n",
       "      <td>NaN</td>\n",
       "      <td>10/1/19 18:20</td>\n",
       "      <td>NaN</td>\n",
       "    </tr>\n",
       "    <tr>\n",
       "      <th>4</th>\n",
       "      <td>pageview</td>\n",
       "      <td>NaN</td>\n",
       "      <td>Chrome</td>\n",
       "      <td>NaN</td>\n",
       "      <td>NaN</td>\n",
       "      <td>NaN</td>\n",
       "      <td>Other</td>\n",
       "      <td>NaN</td>\n",
       "      <td>Other</td>\n",
       "      <td>False</td>\n",
       "      <td>...</td>\n",
       "      <td>tech.cornell.edu</td>\n",
       "      <td>/research/human-computer-interaction-hci/</td>\n",
       "      <td>NaN</td>\n",
       "      <td>NaN</td>\n",
       "      <td>NaN</td>\n",
       "      <td>NaN</td>\n",
       "      <td>6/26/19 17:59</td>\n",
       "      <td>NaN</td>\n",
       "      <td>6/26/19 18:20</td>\n",
       "      <td>NaN</td>\n",
       "    </tr>\n",
       "  </tbody>\n",
       "</table>\n",
       "<p>5 rows × 41 columns</p>\n",
       "</div>"
      ],
      "text/plain": [
       "     Action Bounce Categorie Browser Family Campaign Date Campaign Guid  \\\n",
       "0  pageview              NaN         Chrome           NaN           NaN   \n",
       "1  pageview              NaN         Chrome           NaN           NaN   \n",
       "2  pageview              NaN         Safari           NaN           NaN   \n",
       "3  pageview              NaN         Chrome           NaN           NaN   \n",
       "4  pageview              NaN         Chrome           NaN           NaN   \n",
       "\n",
       "  Campaign Month Campaign Population Campaign Year Device Type Dvce Ismobile  \\\n",
       "0            NaN               Other           NaN       Other         False   \n",
       "1            NaN               Other           NaN       Other         False   \n",
       "2            NaN               Other           NaN       Other         False   \n",
       "3            NaN               Other           NaN       Other         False   \n",
       "4            NaN               Other           NaN       Other         False   \n",
       "\n",
       "   ...      Page Urlhost                               Page Urlpath Seed  \\\n",
       "0  ...  tech.cornell.edu                                          /  NaN   \n",
       "1  ...  tech.cornell.edu                 /programs/phd/phd-studies/  NaN   \n",
       "2  ...  tech.cornell.edu                   /news/category/research/  NaN   \n",
       "3  ...  tech.cornell.edu             /admissions/admissions-events/  NaN   \n",
       "4  ...  tech.cornell.edu  /research/human-computer-interaction-hci/  NaN   \n",
       "\n",
       "  Sms Content Survey Guid Target Url      Timestamp  Tracker Ident  \\\n",
       "0         NaN         NaN        NaN  6/26/19 17:57            NaN   \n",
       "1         NaN         NaN        NaN  10/1/19 18:16            NaN   \n",
       "2         NaN         NaN        NaN  6/26/19 17:58            NaN   \n",
       "3         NaN         NaN        NaN  10/1/19 18:11            NaN   \n",
       "4         NaN         NaN        NaN  6/26/19 17:59            NaN   \n",
       "\n",
       "      Updated At  Variant Id  \n",
       "0  6/26/19 18:20         NaN  \n",
       "1  10/1/19 18:20         NaN  \n",
       "2  6/26/19 18:20         NaN  \n",
       "3  10/1/19 18:20         NaN  \n",
       "4  6/26/19 18:20         NaN  \n",
       "\n",
       "[5 rows x 41 columns]"
      ]
     },
     "execution_count": 4,
     "metadata": {},
     "output_type": "execute_result"
    }
   ],
   "source": [
    "actions.head(5)"
   ]
  },
  {
   "cell_type": "code",
   "execution_count": 5,
   "id": "processed-capital",
   "metadata": {},
   "outputs": [
    {
     "data": {
      "text/plain": [
       "Index(['Element Id'], dtype='object')"
      ]
     },
     "execution_count": 5,
     "metadata": {},
     "output_type": "execute_result"
    }
   ],
   "source": [
    "user_col = users.columns\n",
    "actions_col =actions.columns\n",
    "user_col.intersection(actions_col)"
   ]
  },
  {
   "cell_type": "markdown",
   "id": "higher-default",
   "metadata": {},
   "source": [
    "From the interection of indices of 'users' and 'actions' datasets, we see that 'Element Id' is the common index. We will use this column to join the two datasets. Each observation in the column 'Element Id' refers to a unique user.\n",
    "\n",
    "**Note:** One thing to keep in mind is that the 'action' dataset contains multiple occurences of the same 'Element Id' as it made observations of the different actions performed by a user.\n",
    "\n",
    "We need to join the two datasets using 'Element Id' in a way that all the actions performed by a unique 'Element Id' is included in the new dataset. Since we require all the actions performed by the users, we need to perform a **right join** on 'Element Id'."
   ]
  },
  {
   "cell_type": "code",
   "execution_count": 6,
   "id": "recorded-nevada",
   "metadata": {},
   "outputs": [],
   "source": [
    "df = pd.merge(users,actions,how='right',on='Element Id')"
   ]
  },
  {
   "cell_type": "markdown",
   "id": "persistent-humor",
   "metadata": {},
   "source": [
    "Removing the rows that contain NaN in the column 'Element Id'"
   ]
  },
  {
   "cell_type": "code",
   "execution_count": 7,
   "id": "boring-oklahoma",
   "metadata": {},
   "outputs": [],
   "source": [
    "df = df.dropna(subset = ['Element Id'])"
   ]
  },
  {
   "cell_type": "markdown",
   "id": "weird-reason",
   "metadata": {},
   "source": [
    "The new **df** is the dataset that stores the information of all the actions performed by every user. **For example**, we can see below that it stores all the actions performed by the user with 'Element Id' as '5bd00debc2a9d80d47025bb4'.\n"
   ]
  },
  {
   "cell_type": "code",
   "execution_count": 8,
   "id": "happy-rabbit",
   "metadata": {},
   "outputs": [
    {
     "data": {
      "text/html": [
       "<div>\n",
       "<style scoped>\n",
       "    .dataframe tbody tr th:only-of-type {\n",
       "        vertical-align: middle;\n",
       "    }\n",
       "\n",
       "    .dataframe tbody tr th {\n",
       "        vertical-align: top;\n",
       "    }\n",
       "\n",
       "    .dataframe thead th {\n",
       "        text-align: right;\n",
       "    }\n",
       "</style>\n",
       "<table border=\"1\" class=\"dataframe\">\n",
       "  <thead>\n",
       "    <tr style=\"text-align: right;\">\n",
       "      <th></th>\n",
       "      <th>Action</th>\n",
       "    </tr>\n",
       "  </thead>\n",
       "  <tbody>\n",
       "    <tr>\n",
       "      <th>324270</th>\n",
       "      <td>userCreated</td>\n",
       "    </tr>\n",
       "    <tr>\n",
       "      <th>329388</th>\n",
       "      <td>emailDelivered</td>\n",
       "    </tr>\n",
       "    <tr>\n",
       "      <th>334797</th>\n",
       "      <td>emailOpened</td>\n",
       "    </tr>\n",
       "    <tr>\n",
       "      <th>339983</th>\n",
       "      <td>emailDelivered</td>\n",
       "    </tr>\n",
       "    <tr>\n",
       "      <th>340000</th>\n",
       "      <td>emailOpened</td>\n",
       "    </tr>\n",
       "    <tr>\n",
       "      <th>...</th>\n",
       "      <td>...</td>\n",
       "    </tr>\n",
       "    <tr>\n",
       "      <th>1050904</th>\n",
       "      <td>emailClicked</td>\n",
       "    </tr>\n",
       "    <tr>\n",
       "      <th>1050920</th>\n",
       "      <td>emailOpened</td>\n",
       "    </tr>\n",
       "    <tr>\n",
       "      <th>1051027</th>\n",
       "      <td>emailClicked</td>\n",
       "    </tr>\n",
       "    <tr>\n",
       "      <th>1051083</th>\n",
       "      <td>emailOpened</td>\n",
       "    </tr>\n",
       "    <tr>\n",
       "      <th>1051101</th>\n",
       "      <td>emailClicked</td>\n",
       "    </tr>\n",
       "  </tbody>\n",
       "</table>\n",
       "<p>514 rows × 1 columns</p>\n",
       "</div>"
      ],
      "text/plain": [
       "                 Action\n",
       "324270      userCreated\n",
       "329388   emailDelivered\n",
       "334797      emailOpened\n",
       "339983   emailDelivered\n",
       "340000      emailOpened\n",
       "...                 ...\n",
       "1050904    emailClicked\n",
       "1050920     emailOpened\n",
       "1051027    emailClicked\n",
       "1051083     emailOpened\n",
       "1051101    emailClicked\n",
       "\n",
       "[514 rows x 1 columns]"
      ]
     },
     "execution_count": 8,
     "metadata": {},
     "output_type": "execute_result"
    }
   ],
   "source": [
    "df.loc[df['Element Id'] =='5bd00debc2a9d80d47025bb4',['Action']]"
   ]
  },
  {
   "cell_type": "markdown",
   "id": "japanese-stations",
   "metadata": {},
   "source": [
    "Let's explore what are the different actions that can be performed by a user."
   ]
  },
  {
   "cell_type": "code",
   "execution_count": 9,
   "id": "comfortable-actress",
   "metadata": {},
   "outputs": [
    {
     "data": {
      "text/plain": [
       "['emailOpened',\n",
       " 'emailClicked',\n",
       " 'userLogin',\n",
       " 'userCreated',\n",
       " 'emailDelivered',\n",
       " 'formSaved',\n",
       " 'emailBounced',\n",
       " 'emailUnsubscribed',\n",
       " 'emailAuthComplaint',\n",
       " 'emailComplaint',\n",
       " 'applicationRegistrationSuccessful',\n",
       " 'pageview',\n",
       " 'linkClick',\n",
       " 'applicationSubmitted',\n",
       " 'recommendationReceived',\n",
       " 'recommendationRequested',\n",
       " 'applicationPaid',\n",
       " 'smsDelivered']"
      ]
     },
     "execution_count": 9,
     "metadata": {},
     "output_type": "execute_result"
    }
   ],
   "source": [
    "df['Action'].unique().tolist()"
   ]
  },
  {
   "cell_type": "markdown",
   "id": "searching-insulin",
   "metadata": {},
   "source": [
    "We see that a user can perform 18 different actions. The actions are pretty self explanatory, so I will not go into the details here. Let's start answering some important questions for our analysis."
   ]
  },
  {
   "cell_type": "markdown",
   "id": "considered-locking",
   "metadata": {},
   "source": [
    "### Answering important question for the analysis <a name='analysis'/>"
   ]
  },
  {
   "cell_type": "markdown",
   "id": "collect-style",
   "metadata": {},
   "source": [
    "#### Q1. What are the average number of emails that are being sent per student? <a name='q1'/>\n",
    "\n",
    "The average number of emails being sent per student can be calculated by the following formula - \n",
    "\n",
    "$$\n",
    "\\text{Average number of emails per student } = \\frac{\\text{Total number of emails delivered}}{\\text{Number of unique students}}\n",
    "$$"
   ]
  },
  {
   "cell_type": "code",
   "execution_count": 10,
   "id": "retained-discrimination",
   "metadata": {},
   "outputs": [
    {
     "data": {
      "text/plain": [
       "8.457067963509063"
      ]
     },
     "execution_count": 10,
     "metadata": {},
     "output_type": "execute_result"
    }
   ],
   "source": [
    "total_emails_delivered = sum(df['Action'] == 'emailDelivered')\n",
    "no_unique_students = df['Element Id'].nunique()\n",
    "\n",
    "email_per_student = total_emails_delivered/no_unique_students\n",
    "email_per_student"
   ]
  },
  {
   "cell_type": "markdown",
   "id": "theoretical-alaska",
   "metadata": {},
   "source": [
    "Therefore, the average number of emails sent per student is around **8 emails**.\n",
    "\n",
    "___"
   ]
  },
  {
   "cell_type": "markdown",
   "id": "theoretical-breed",
   "metadata": {},
   "source": [
    "#### Q2. What is the average open rate per student? <a name='q2'/>\n",
    "\n",
    "The average open rate per student can be calculated as -\n",
    "\n",
    "$$\n",
    "\\text{Average open rate per student} = \\frac{\\text{Total number of emails opened}}{\\text{Number of unique students}}\n",
    "$$"
   ]
  },
  {
   "cell_type": "code",
   "execution_count": 11,
   "id": "traditional-theory",
   "metadata": {},
   "outputs": [
    {
     "data": {
      "text/plain": [
       "4.939555417593598"
      ]
     },
     "execution_count": 11,
     "metadata": {},
     "output_type": "execute_result"
    }
   ],
   "source": [
    "total_emails_opened = sum(df['Action'] == 'emailOpened')\n",
    "\n",
    "open_rate_per_student = total_emails_opened/no_unique_students\n",
    "open_rate_per_student"
   ]
  },
  {
   "cell_type": "markdown",
   "id": "surrounded-kenya",
   "metadata": {},
   "source": [
    "So on average, students are opening **5 out of the 8 emails** sent to them.\n",
    "\n",
    "___"
   ]
  },
  {
   "cell_type": "markdown",
   "id": "indie-amber",
   "metadata": {},
   "source": [
    "#### Q3. How many emails remain unopened (count and %)? <a id='q3'/>\n",
    "\n",
    "To get the number of unopened emails, we can substract the number of emails opened from the total number of emails delivered.\n",
    "\n",
    "$$\n",
    "\\text{Number of unopened emails} = \\text{Number of emails delivered} - \\text{Number of emails opened}\n",
    "$$\n",
    "\n",
    "And to get the percentage of unopened emails -\n",
    "\n",
    "$$\n",
    "\\text{% of unopened emails} = \\frac{\\text{Number of emails unopened}}{\\text{total number of emails delivered}} \\times 100\n",
    "$$"
   ]
  },
  {
   "cell_type": "code",
   "execution_count": 12,
   "id": "still-discussion",
   "metadata": {},
   "outputs": [
    {
     "data": {
      "text/plain": [
       "203970"
      ]
     },
     "execution_count": 12,
     "metadata": {},
     "output_type": "execute_result"
    }
   ],
   "source": [
    "no_unopened_emails = total_emails_delivered - total_emails_opened\n",
    "no_unopened_emails"
   ]
  },
  {
   "cell_type": "markdown",
   "id": "commercial-header",
   "metadata": {},
   "source": [
    "**203,970 emails** remain unopened."
   ]
  },
  {
   "cell_type": "code",
   "execution_count": 13,
   "id": "vocal-education",
   "metadata": {},
   "outputs": [
    {
     "data": {
      "text/plain": [
       "41.59257748776509"
      ]
     },
     "execution_count": 13,
     "metadata": {},
     "output_type": "execute_result"
    }
   ],
   "source": [
    "percent_emails_unopened = (no_unopened_emails/total_emails_delivered)*100\n",
    "percent_emails_unopened"
   ]
  },
  {
   "cell_type": "markdown",
   "id": "known-projection",
   "metadata": {},
   "source": [
    "Therefore, we observe that **41.6%** of emails delivered remain **unopened**.\n",
    "\n",
    "___"
   ]
  },
  {
   "cell_type": "markdown",
   "id": "declared-vitamin",
   "metadata": {},
   "source": [
    "#### Q4.  How many emails does it take (number of delivered) to get students to open an email? <a name='q4'/>\n",
    "\n",
    "To determine this number, we need to determine the number of emails sent per number of emails opened.\n",
    "\n",
    "$$\n",
    "\\text{Number of emails sent per number of emails opened} = \\frac{\\text{Total number of emails delivered}}{\\text{Total number of emails opened}}\n",
    "$$"
   ]
  },
  {
   "cell_type": "code",
   "execution_count": 14,
   "id": "compact-vancouver",
   "metadata": {},
   "outputs": [
    {
     "data": {
      "text/plain": [
       "1.7121111615403415"
      ]
     },
     "execution_count": 14,
     "metadata": {},
     "output_type": "execute_result"
    }
   ],
   "source": [
    "email_sent_per_open = total_emails_delivered/total_emails_opened\n",
    "email_sent_per_open"
   ]
  },
  {
   "cell_type": "markdown",
   "id": "available-light",
   "metadata": {},
   "source": [
    "This shows that about **2 emails** were sent before the student opened the email.\n",
    "\n",
    "___"
   ]
  },
  {
   "cell_type": "markdown",
   "id": "tough-amplifier",
   "metadata": {},
   "source": [
    "#### Q5. Among students who unsubscribed (emailUnsubscribed), how many emails on average were they sent? <a name='q5'/>\n",
    "\n",
    "This can be calculated by creating a subset of the original dataset containing all the 'Element Id' that unsubscribed from emails, and then calculating the average number of emails delivered to the 'Element Id' on this subset."
   ]
  },
  {
   "cell_type": "code",
   "execution_count": 15,
   "id": "informed-driving",
   "metadata": {},
   "outputs": [
    {
     "data": {
      "text/plain": [
       "6.266007144820006"
      ]
     },
     "execution_count": 15,
     "metadata": {},
     "output_type": "execute_result"
    }
   ],
   "source": [
    "unsub_list = df.loc[df['Action'] == 'emailUnsubscribed', 'Element Id'].tolist()\n",
    "unsub_df = df[df['Element Id'].isin(unsub_list)]\n",
    "\n",
    "unsub_emails_delivered = sum(unsub_df['Action']=='emailDelivered')\n",
    "unsub_users = unsub_df['Element Id'].nunique()\n",
    "\n",
    "avg_email_unsub = unsub_emails_delivered/unsub_users\n",
    "avg_email_unsub"
   ]
  },
  {
   "cell_type": "markdown",
   "id": "suspected-reservoir",
   "metadata": {},
   "source": [
    "So, the students who unsubsribed were sent an average of **6 emails**. \n",
    "\n",
    "___"
   ]
  },
  {
   "cell_type": "markdown",
   "id": "competitive-corporation",
   "metadata": {},
   "source": [
    "#### Q6. How does email engagement change over the course of enrollment milestones (Prospects→ Applicants→ Admitted) ? <a name='q6'/>\n",
    "\n",
    "Email engagement in this case includes the following actions performed by the user -\n",
    "\n",
    "* 'emailOpened'\n",
    "* 'emailClicked'\n",
    "\n",
    "Lets get them in a list that we can use later.\n"
   ]
  },
  {
   "cell_type": "code",
   "execution_count": 16,
   "id": "terminal-rings",
   "metadata": {},
   "outputs": [],
   "source": [
    "engagement = ['emailOpened','emailClicked']"
   ]
  },
  {
   "cell_type": "markdown",
   "id": "further-middle",
   "metadata": {},
   "source": [
    "The information about student categories is stored in the column 'Campaign Population'-"
   ]
  },
  {
   "cell_type": "code",
   "execution_count": 17,
   "id": "dying-investment",
   "metadata": {},
   "outputs": [
    {
     "data": {
      "text/plain": [
       "['Other',\n",
       " 'Prospect',\n",
       " 'Graduate',\n",
       " 'Deposit',\n",
       " 'Admit',\n",
       " 'Admit/Deposit',\n",
       " 'Event',\n",
       " 'Applicant',\n",
       " 'Community Counselor']"
      ]
     },
     "execution_count": 17,
     "metadata": {},
     "output_type": "execute_result"
    }
   ],
   "source": [
    "df['Campaign Population'].unique().tolist()"
   ]
  },
  {
   "cell_type": "markdown",
   "id": "confident-colony",
   "metadata": {},
   "source": [
    "Let us divide the students that belong to Prospect, Applicant, and Admit respectively. Then we can measure the engagement based on different milestones."
   ]
  },
  {
   "cell_type": "code",
   "execution_count": 18,
   "id": "waiting-sheriff",
   "metadata": {},
   "outputs": [],
   "source": [
    "prospect_df = df.loc[df['Campaign Population']=='Prospect'] \n",
    "applicant_df = df.loc[df['Campaign Population']=='Applicant']\n",
    "admit_df = df.loc[df['Campaign Population']=='Admit']"
   ]
  },
  {
   "cell_type": "markdown",
   "id": "corporate-shape",
   "metadata": {},
   "source": [
    "Now we have three datasets containing information of students from the different milestones, namely Prospect, Applicant, Admit. We can now measure engagement based on each milestone.\n",
    "\n",
    "\n",
    "Engagement can be calculated as a percentage of total email actions per email delivered.\n",
    "\n",
    "$$\n",
    "\\text{Engagement} = \\frac{\\text{Total email engagement}}{\\text{Total emails delivered}} \\times 100\n",
    "$$"
   ]
  },
  {
   "cell_type": "code",
   "execution_count": 19,
   "id": "reserved-stocks",
   "metadata": {},
   "outputs": [
    {
     "name": "stdout",
     "output_type": "stream",
     "text": [
      "Prosepct Engagement = 63.46367473894689 %\n",
      "Applicant Engagement = 192.6513671875 %\n",
      "Admit Engagement = 460.8915906788247 %\n"
     ]
    }
   ],
   "source": [
    "prospect_email_engage = sum(prospect_df['Action'].isin(engagement))\n",
    "prospect_email_deliver = sum(prospect_df['Action'].isin(['emailDelivered']))\n",
    "prospect_engage = (prospect_email_engage/prospect_email_deliver)*100\n",
    "print('Prosepct Engagement' + ' = ' +str(prospect_engage)+' %' )\n",
    "\n",
    "applicant_email_engage = sum(applicant_df['Action'].isin(engagement))\n",
    "applicant_email_deliver = sum(applicant_df['Action'].isin(['emailDelivered']))\n",
    "applicant_engage = (applicant_email_engage/applicant_email_deliver)*100\n",
    "print('Applicant Engagement' + ' = ' +str(applicant_engage)+' %' )\n",
    "\n",
    "admit_email_engage = sum(admit_df['Action'].isin(engagement))\n",
    "admit_email_deliver = sum(admit_df['Action'].isin(['emailDelivered']))\n",
    "admit_engage = (admit_email_engage/admit_email_deliver)*100\n",
    "print('Admit Engagement' + ' = ' +str(admit_engage)+' %' )"
   ]
  },
  {
   "cell_type": "markdown",
   "id": "unsigned-crash",
   "metadata": {},
   "source": [
    "Therefore we see that the engagement increases as students move ahead in milestones. \n",
    "\n",
    "**Note:** Percentages higher than hundred suggest that students checked their emails more than once. The results are - \n",
    "\n",
    "|Milestone|Engagement|\n",
    "|-|-|\n",
    "|Prospects|64.5%|\n",
    "|Applicants|192.7%|\n",
    "|Admit|460.9%|\n",
    "\n",
    "___"
   ]
  },
  {
   "cell_type": "markdown",
   "id": "structured-parish",
   "metadata": {},
   "source": [
    "#### Q7. Are there “windows” where applicants/deposited students complete more actions? <a name='q7'/>\n",
    "*For example, an admitted student opens 10 emails in 12 weeks, but 50% of them during the 1st week*\n",
    "\n",
    "\n",
    "Let's start by making a dataset with only applicants/deposited students."
   ]
  },
  {
   "cell_type": "code",
   "execution_count": 20,
   "id": "steady-kuwait",
   "metadata": {},
   "outputs": [],
   "source": [
    "# we alrady made a dataset with applicant students, applicant_df\n",
    "deposit_df = df.loc[df['Campaign Population']=='Admit/Deposit']"
   ]
  },
  {
   "cell_type": "markdown",
   "id": "accepted-strike",
   "metadata": {},
   "source": [
    "Now we have to convert the column 'Timestamp' to ```DatetimeIndex```"
   ]
  },
  {
   "cell_type": "code",
   "execution_count": 21,
   "id": "pursuant-whale",
   "metadata": {
    "scrolled": true
   },
   "outputs": [
    {
     "name": "stderr",
     "output_type": "stream",
     "text": [
      "<ipython-input-21-3f882017d97c>:1: SettingWithCopyWarning: \n",
      "A value is trying to be set on a copy of a slice from a DataFrame.\n",
      "Try using .loc[row_indexer,col_indexer] = value instead\n",
      "\n",
      "See the caveats in the documentation: https://pandas.pydata.org/pandas-docs/stable/user_guide/indexing.html#returning-a-view-versus-a-copy\n",
      "  applicant_df['Dates'] = pd.to_datetime(applicant_df['Timestamp'])\n",
      "<ipython-input-21-3f882017d97c>:2: SettingWithCopyWarning: \n",
      "A value is trying to be set on a copy of a slice from a DataFrame.\n",
      "Try using .loc[row_indexer,col_indexer] = value instead\n",
      "\n",
      "See the caveats in the documentation: https://pandas.pydata.org/pandas-docs/stable/user_guide/indexing.html#returning-a-view-versus-a-copy\n",
      "  deposit_df['Dates'] = pd.to_datetime(deposit_df['Timestamp'])\n"
     ]
    }
   ],
   "source": [
    "applicant_df['Dates'] = pd.to_datetime(applicant_df['Timestamp'])\n",
    "deposit_df['Dates'] = pd.to_datetime(deposit_df['Timestamp'])"
   ]
  },
  {
   "cell_type": "markdown",
   "id": "apparent-hobby",
   "metadata": {},
   "source": [
    "Setting ```'Dates'``` as index so that we can resample them by weeks."
   ]
  },
  {
   "cell_type": "code",
   "execution_count": 22,
   "id": "brave-peace",
   "metadata": {},
   "outputs": [],
   "source": [
    "applicant_df.set_index('Dates', inplace=True)\n",
    "deposit_df.set_index('Dates', inplace=True)"
   ]
  },
  {
   "cell_type": "markdown",
   "id": "guilty-handbook",
   "metadata": {},
   "source": [
    "Making a new column `'ActionCount'` to keep a count of actions"
   ]
  },
  {
   "cell_type": "code",
   "execution_count": 23,
   "id": "million-guidance",
   "metadata": {
    "scrolled": false
   },
   "outputs": [
    {
     "name": "stderr",
     "output_type": "stream",
     "text": [
      "/usr/local/lib/python3.8/site-packages/pandas/core/indexing.py:1599: SettingWithCopyWarning: \n",
      "A value is trying to be set on a copy of a slice from a DataFrame.\n",
      "Try using .loc[row_indexer,col_indexer] = value instead\n",
      "\n",
      "See the caveats in the documentation: https://pandas.pydata.org/pandas-docs/stable/user_guide/indexing.html#returning-a-view-versus-a-copy\n",
      "  self.obj[key] = infer_fill_value(value)\n",
      "/usr/local/lib/python3.8/site-packages/pandas/core/indexing.py:1720: SettingWithCopyWarning: \n",
      "A value is trying to be set on a copy of a slice from a DataFrame.\n",
      "Try using .loc[row_indexer,col_indexer] = value instead\n",
      "\n",
      "See the caveats in the documentation: https://pandas.pydata.org/pandas-docs/stable/user_guide/indexing.html#returning-a-view-versus-a-copy\n",
      "  self._setitem_single_column(loc, value, pi)\n"
     ]
    }
   ],
   "source": [
    "applicant_df.loc[applicant_df['Action']!='emailDelivered', 'ActionCount'] = 1\n",
    "applicant_df.loc[applicant_df['Action']=='emailDelivered', 'ActionCount'] = 0\n",
    "\n",
    "deposit_df.loc[deposit_df['Action']!='emailDelivered', 'ActionCount'] = 1\n",
    "deposit_df.loc[deposit_df['Action']=='emailDelivered', 'ActionCount'] = 0"
   ]
  },
  {
   "cell_type": "markdown",
   "id": "about-victory",
   "metadata": {},
   "source": [
    "Now we can resample the datasets weekly and calculate the sum of actions taken on a weekly basis.\n",
    "\n",
    "For **deposited** students - "
   ]
  },
  {
   "cell_type": "code",
   "execution_count": 24,
   "id": "patient-advisory",
   "metadata": {},
   "outputs": [
    {
     "name": "stdout",
     "output_type": "stream",
     "text": [
      "Dates\n",
      "2018-12-23    171.0\n",
      "2018-12-30    179.0\n",
      "2019-01-06    171.0\n",
      "2019-01-13    222.0\n",
      "2019-01-20    244.0\n",
      "2019-01-27    223.0\n",
      "2019-02-03    183.0\n",
      "2019-02-10    396.0\n",
      "2019-02-17    675.0\n",
      "2019-02-24    727.0\n",
      "2019-03-03    767.0\n",
      "2019-03-10    772.0\n",
      "2019-03-17    720.0\n",
      "2019-03-24    770.0\n",
      "2019-03-31    619.0\n",
      "2019-04-07    824.0\n",
      "2019-04-14    973.0\n",
      "2019-04-21    619.0\n",
      "2019-04-28    361.0\n",
      "2019-05-05    246.0\n",
      "2019-05-12     79.0\n",
      "2019-05-19     63.0\n",
      "2019-05-26     50.0\n",
      "2019-06-02     30.0\n",
      "2019-06-09     45.0\n",
      "2019-06-16     26.0\n",
      "2019-06-23     25.0\n",
      "2019-06-30     10.0\n",
      "2019-07-07      0.0\n",
      "2019-07-14      0.0\n",
      "2019-07-21      0.0\n",
      "2019-07-28      0.0\n",
      "2019-08-04      0.0\n",
      "2019-08-11      0.0\n",
      "2019-08-18      0.0\n",
      "2019-08-25      0.0\n",
      "2019-09-01      0.0\n",
      "2019-09-08      0.0\n",
      "2019-09-15      0.0\n",
      "2019-09-22      0.0\n",
      "2019-09-29      0.0\n",
      "2019-10-06      2.0\n",
      "Freq: W-SUN, Name: ActionCount, dtype: float64\n"
     ]
    }
   ],
   "source": [
    "deposit_action = deposit_df['ActionCount'].resample('W').sum()\n",
    "print(deposit_action)"
   ]
  },
  {
   "cell_type": "markdown",
   "id": "encouraging-colon",
   "metadata": {},
   "source": [
    "For **Applicant** students- "
   ]
  },
  {
   "cell_type": "code",
   "execution_count": 25,
   "id": "green-russian",
   "metadata": {},
   "outputs": [
    {
     "name": "stdout",
     "output_type": "stream",
     "text": [
      "Dates\n",
      "2018-11-25      41.0\n",
      "2018-12-02      31.0\n",
      "2018-12-09       2.0\n",
      "2018-12-16       0.0\n",
      "2018-12-23       0.0\n",
      "2018-12-30       0.0\n",
      "2019-01-06       0.0\n",
      "2019-01-13       0.0\n",
      "2019-01-20    1786.0\n",
      "2019-01-27     192.0\n",
      "2019-02-03     117.0\n",
      "2019-02-10    2250.0\n",
      "2019-02-17    2393.0\n",
      "2019-02-24     339.0\n",
      "2019-03-03     262.0\n",
      "2019-03-10     228.0\n",
      "2019-03-17      62.0\n",
      "2019-03-24      27.0\n",
      "2019-03-31      26.0\n",
      "2019-04-07      14.0\n",
      "2019-04-14      13.0\n",
      "2019-04-21      11.0\n",
      "2019-04-28       6.0\n",
      "2019-05-05       1.0\n",
      "2019-05-12       6.0\n",
      "2019-05-19       3.0\n",
      "2019-05-26       1.0\n",
      "2019-06-02       1.0\n",
      "2019-06-09       1.0\n",
      "2019-06-16       1.0\n",
      "2019-06-23       2.0\n",
      "2019-06-30       0.0\n",
      "2019-07-07       0.0\n",
      "2019-07-14       0.0\n",
      "2019-07-21       0.0\n",
      "2019-07-28       0.0\n",
      "2019-08-04       0.0\n",
      "2019-08-11       0.0\n",
      "2019-08-18       0.0\n",
      "2019-08-25       0.0\n",
      "2019-09-01       0.0\n",
      "2019-09-08       0.0\n",
      "2019-09-15       0.0\n",
      "2019-09-22       0.0\n",
      "2019-09-29       0.0\n",
      "2019-10-06       0.0\n",
      "2019-10-13     141.0\n",
      "2019-10-20       7.0\n",
      "Freq: W-SUN, Name: ActionCount, dtype: float64\n"
     ]
    }
   ],
   "source": [
    "applicant_action = applicant_df['ActionCount'].resample('W').sum()\n",
    "print(applicant_action)"
   ]
  },
  {
   "cell_type": "markdown",
   "id": "hired-printing",
   "metadata": {},
   "source": [
    "We can plot line graphs to visualize the number of actions taken weekly by students."
   ]
  },
  {
   "cell_type": "code",
   "execution_count": 26,
   "id": "raised-newton",
   "metadata": {},
   "outputs": [
    {
     "data": {
      "text/plain": [
       "<AxesSubplot:title={'center':'Deposited Students'}, xlabel='Dates'>"
      ]
     },
     "execution_count": 26,
     "metadata": {},
     "output_type": "execute_result"
    },
    {
     "data": {
      "image/png": "[encoded data removed]",
      "text/plain": [
       "<Figure size 1080x360 with 2 Axes>"
      ]
     },
     "metadata": {
      "needs_background": "light"
     },
     "output_type": "display_data"
    }
   ],
   "source": [
    "fig, axs = plt.subplots(1,2)\n",
    "\n",
    "applicant_action.plot(title='Applicant Sudents',ax=axs[0],figsize=(15,5))\n",
    "deposit_action.plot(title='Deposited Students',ax=axs[1],figsize=(15,5))"
   ]
  },
  {
   "cell_type": "markdown",
   "id": "confidential-contract",
   "metadata": {},
   "source": [
    "From the plots, we can see that most of the actions taken by **applicant students** was between first week of January to the second week of March, whereas most of the action taken by **Deposited students** spanned from first week of February until the second week of May.\n",
    "\n",
    "___"
   ]
  },
  {
   "cell_type": "markdown",
   "id": "solved-protest",
   "metadata": {},
   "source": [
    "#### Q8. Compute an “engagement score” that combines the actions that lead to higher conversion.  <a name='q8'/>\n",
    "*The “engagement score” is a weighted average from 0-100% that accounts for different actions completed by an student.*"
   ]
  },
  {
   "cell_type": "markdown",
   "id": "convenient-avenue",
   "metadata": {},
   "source": [
    "Let's examine the actions taken by deposited students. This will give us an idea of what actions are likely taken by students that end up converting."
   ]
  },
  {
   "cell_type": "code",
   "execution_count": 27,
   "id": "reduced-newton",
   "metadata": {},
   "outputs": [
    {
     "data": {
      "text/plain": [
       "emailOpened          8534\n",
       "emailDelivered       2343\n",
       "emailClicked         1633\n",
       "emailBounced           19\n",
       "emailUnsubscribed       6\n",
       "Name: Action, dtype: int64"
      ]
     },
     "execution_count": 27,
     "metadata": {},
     "output_type": "execute_result"
    }
   ],
   "source": [
    "deposit_df['Action'].value_counts()"
   ]
  },
  {
   "cell_type": "markdown",
   "id": "crucial-motel",
   "metadata": {},
   "source": [
    "This will help us in determing a formula to calculate a percentage based score, which will help us compute an engagement score for students.\n",
    "\n",
    "From the study of above data, the following formula for engagmenet score is developed- \n",
    "\n",
    "$$\n",
    "\\text{Engagement Score} = \\frac{\\text{Emails opened} + \\text{Emails clicked}}{\\text{Email opened} + \\text{Emails clicked} + \\text{Email delivered}} \\times 100\n",
    "$$"
   ]
  },
  {
   "cell_type": "code",
   "execution_count": 28,
   "id": "existing-nebraska",
   "metadata": {},
   "outputs": [],
   "source": [
    "unique_user =  df['Element Id'].unique()"
   ]
  },
  {
   "cell_type": "markdown",
   "id": "collected-interview",
   "metadata": {},
   "source": [
    "We make a datafram only containing `'Element Id'` and `'Action'` columns from the original dataframe and only take the actions `'emailOpened'` `'emailClicked'` `'emailDelivered'`"
   ]
  },
  {
   "cell_type": "code",
   "execution_count": 29,
   "id": "equal-tissue",
   "metadata": {},
   "outputs": [],
   "source": [
    "small_df = df.loc[:,['Element Id','Action']]\n",
    "filt = ['emailOpened','emailClicked','emailDelivered']\n",
    "small_df = small_df.loc[df['Action'].isin(filt)]"
   ]
  },
  {
   "cell_type": "markdown",
   "id": "utility-fundamental",
   "metadata": {},
   "source": [
    "Then we create a new dataframe `'engage_df'` that counts the number of `'emailOpened'` `'emailClicked'` `'emailDelivered'` for each `'Element Id'`"
   ]
  },
  {
   "cell_type": "code",
   "execution_count": 30,
   "id": "registered-norway",
   "metadata": {},
   "outputs": [
    {
     "data": {
      "text/html": [
       "<div>\n",
       "<style scoped>\n",
       "    .dataframe tbody tr th:only-of-type {\n",
       "        vertical-align: middle;\n",
       "    }\n",
       "\n",
       "    .dataframe tbody tr th {\n",
       "        vertical-align: top;\n",
       "    }\n",
       "\n",
       "    .dataframe thead th {\n",
       "        text-align: right;\n",
       "    }\n",
       "</style>\n",
       "<table border=\"1\" class=\"dataframe\">\n",
       "  <thead>\n",
       "    <tr style=\"text-align: right;\">\n",
       "      <th>Action</th>\n",
       "      <th>emailClicked</th>\n",
       "      <th>emailDelivered</th>\n",
       "      <th>emailOpened</th>\n",
       "    </tr>\n",
       "    <tr>\n",
       "      <th>Element Id</th>\n",
       "      <th></th>\n",
       "      <th></th>\n",
       "      <th></th>\n",
       "    </tr>\n",
       "  </thead>\n",
       "  <tbody>\n",
       "    <tr>\n",
       "      <th>5a45157b1ed0725bc304d120</th>\n",
       "      <td>0.0</td>\n",
       "      <td>9.0</td>\n",
       "      <td>5.0</td>\n",
       "    </tr>\n",
       "    <tr>\n",
       "      <th>5a45157b1ed0725bc5352b3f</th>\n",
       "      <td>2.0</td>\n",
       "      <td>8.0</td>\n",
       "      <td>6.0</td>\n",
       "    </tr>\n",
       "    <tr>\n",
       "      <th>5a45157b1ed0725bc86d87fd</th>\n",
       "      <td>0.0</td>\n",
       "      <td>7.0</td>\n",
       "      <td>1.0</td>\n",
       "    </tr>\n",
       "    <tr>\n",
       "      <th>5a45157b1ed0725bcb0180d2</th>\n",
       "      <td>0.0</td>\n",
       "      <td>5.0</td>\n",
       "      <td>0.0</td>\n",
       "    </tr>\n",
       "    <tr>\n",
       "      <th>5a45157b1ed0725bcc026d8f</th>\n",
       "      <td>0.0</td>\n",
       "      <td>7.0</td>\n",
       "      <td>2.0</td>\n",
       "    </tr>\n",
       "    <tr>\n",
       "      <th>...</th>\n",
       "      <td>...</td>\n",
       "      <td>...</td>\n",
       "      <td>...</td>\n",
       "    </tr>\n",
       "    <tr>\n",
       "      <th>5da536d82ca3f61c984a5b37</th>\n",
       "      <td>1.0</td>\n",
       "      <td>3.0</td>\n",
       "      <td>5.0</td>\n",
       "    </tr>\n",
       "    <tr>\n",
       "      <th>5da53a462ca3f61c6a6a1002</th>\n",
       "      <td>0.0</td>\n",
       "      <td>2.0</td>\n",
       "      <td>0.0</td>\n",
       "    </tr>\n",
       "    <tr>\n",
       "      <th>5da5cdc72ca3f61e6c0be135</th>\n",
       "      <td>0.0</td>\n",
       "      <td>1.0</td>\n",
       "      <td>0.0</td>\n",
       "    </tr>\n",
       "    <tr>\n",
       "      <th>5da5d4562ca3f6302f527c57</th>\n",
       "      <td>1.0</td>\n",
       "      <td>2.0</td>\n",
       "      <td>3.0</td>\n",
       "    </tr>\n",
       "    <tr>\n",
       "      <th>5da628e42ca3f61e9c71ade4</th>\n",
       "      <td>0.0</td>\n",
       "      <td>0.0</td>\n",
       "      <td>2.0</td>\n",
       "    </tr>\n",
       "  </tbody>\n",
       "</table>\n",
       "<p>51153 rows × 3 columns</p>\n",
       "</div>"
      ],
      "text/plain": [
       "Action                    emailClicked  emailDelivered  emailOpened\n",
       "Element Id                                                         \n",
       "5a45157b1ed0725bc304d120           0.0             9.0          5.0\n",
       "5a45157b1ed0725bc5352b3f           2.0             8.0          6.0\n",
       "5a45157b1ed0725bc86d87fd           0.0             7.0          1.0\n",
       "5a45157b1ed0725bcb0180d2           0.0             5.0          0.0\n",
       "5a45157b1ed0725bcc026d8f           0.0             7.0          2.0\n",
       "...                                ...             ...          ...\n",
       "5da536d82ca3f61c984a5b37           1.0             3.0          5.0\n",
       "5da53a462ca3f61c6a6a1002           0.0             2.0          0.0\n",
       "5da5cdc72ca3f61e6c0be135           0.0             1.0          0.0\n",
       "5da5d4562ca3f6302f527c57           1.0             2.0          3.0\n",
       "5da628e42ca3f61e9c71ade4           0.0             0.0          2.0\n",
       "\n",
       "[51153 rows x 3 columns]"
      ]
     },
     "execution_count": 30,
     "metadata": {},
     "output_type": "execute_result"
    }
   ],
   "source": [
    "engage_df = small_df.value_counts().unstack().fillna(0)\n",
    "engage_df"
   ]
  },
  {
   "cell_type": "markdown",
   "id": "least-bacteria",
   "metadata": {},
   "source": [
    "Then we can calculate the engagement score based on the formula above and add a column containing the results"
   ]
  },
  {
   "cell_type": "code",
   "execution_count": 31,
   "id": "confused-course",
   "metadata": {},
   "outputs": [
    {
     "data": {
      "text/html": [
       "<div>\n",
       "<style scoped>\n",
       "    .dataframe tbody tr th:only-of-type {\n",
       "        vertical-align: middle;\n",
       "    }\n",
       "\n",
       "    .dataframe tbody tr th {\n",
       "        vertical-align: top;\n",
       "    }\n",
       "\n",
       "    .dataframe thead th {\n",
       "        text-align: right;\n",
       "    }\n",
       "</style>\n",
       "<table border=\"1\" class=\"dataframe\">\n",
       "  <thead>\n",
       "    <tr style=\"text-align: right;\">\n",
       "      <th>Action</th>\n",
       "      <th>emailClicked</th>\n",
       "      <th>emailDelivered</th>\n",
       "      <th>emailOpened</th>\n",
       "      <th>engagement score</th>\n",
       "    </tr>\n",
       "    <tr>\n",
       "      <th>Element Id</th>\n",
       "      <th></th>\n",
       "      <th></th>\n",
       "      <th></th>\n",
       "      <th></th>\n",
       "    </tr>\n",
       "  </thead>\n",
       "  <tbody>\n",
       "    <tr>\n",
       "      <th>5a45157b1ed0725bc304d120</th>\n",
       "      <td>0.0</td>\n",
       "      <td>9.0</td>\n",
       "      <td>5.0</td>\n",
       "      <td>35.714286</td>\n",
       "    </tr>\n",
       "    <tr>\n",
       "      <th>5a45157b1ed0725bc5352b3f</th>\n",
       "      <td>2.0</td>\n",
       "      <td>8.0</td>\n",
       "      <td>6.0</td>\n",
       "      <td>50.000000</td>\n",
       "    </tr>\n",
       "    <tr>\n",
       "      <th>5a45157b1ed0725bc86d87fd</th>\n",
       "      <td>0.0</td>\n",
       "      <td>7.0</td>\n",
       "      <td>1.0</td>\n",
       "      <td>12.500000</td>\n",
       "    </tr>\n",
       "    <tr>\n",
       "      <th>5a45157b1ed0725bcb0180d2</th>\n",
       "      <td>0.0</td>\n",
       "      <td>5.0</td>\n",
       "      <td>0.0</td>\n",
       "      <td>0.000000</td>\n",
       "    </tr>\n",
       "    <tr>\n",
       "      <th>5a45157b1ed0725bcc026d8f</th>\n",
       "      <td>0.0</td>\n",
       "      <td>7.0</td>\n",
       "      <td>2.0</td>\n",
       "      <td>22.222222</td>\n",
       "    </tr>\n",
       "    <tr>\n",
       "      <th>...</th>\n",
       "      <td>...</td>\n",
       "      <td>...</td>\n",
       "      <td>...</td>\n",
       "      <td>...</td>\n",
       "    </tr>\n",
       "    <tr>\n",
       "      <th>5da536d82ca3f61c984a5b37</th>\n",
       "      <td>1.0</td>\n",
       "      <td>3.0</td>\n",
       "      <td>5.0</td>\n",
       "      <td>66.666667</td>\n",
       "    </tr>\n",
       "    <tr>\n",
       "      <th>5da53a462ca3f61c6a6a1002</th>\n",
       "      <td>0.0</td>\n",
       "      <td>2.0</td>\n",
       "      <td>0.0</td>\n",
       "      <td>0.000000</td>\n",
       "    </tr>\n",
       "    <tr>\n",
       "      <th>5da5cdc72ca3f61e6c0be135</th>\n",
       "      <td>0.0</td>\n",
       "      <td>1.0</td>\n",
       "      <td>0.0</td>\n",
       "      <td>0.000000</td>\n",
       "    </tr>\n",
       "    <tr>\n",
       "      <th>5da5d4562ca3f6302f527c57</th>\n",
       "      <td>1.0</td>\n",
       "      <td>2.0</td>\n",
       "      <td>3.0</td>\n",
       "      <td>66.666667</td>\n",
       "    </tr>\n",
       "    <tr>\n",
       "      <th>5da628e42ca3f61e9c71ade4</th>\n",
       "      <td>0.0</td>\n",
       "      <td>0.0</td>\n",
       "      <td>2.0</td>\n",
       "      <td>100.000000</td>\n",
       "    </tr>\n",
       "  </tbody>\n",
       "</table>\n",
       "<p>51153 rows × 4 columns</p>\n",
       "</div>"
      ],
      "text/plain": [
       "Action                    emailClicked  emailDelivered  emailOpened  \\\n",
       "Element Id                                                            \n",
       "5a45157b1ed0725bc304d120           0.0             9.0          5.0   \n",
       "5a45157b1ed0725bc5352b3f           2.0             8.0          6.0   \n",
       "5a45157b1ed0725bc86d87fd           0.0             7.0          1.0   \n",
       "5a45157b1ed0725bcb0180d2           0.0             5.0          0.0   \n",
       "5a45157b1ed0725bcc026d8f           0.0             7.0          2.0   \n",
       "...                                ...             ...          ...   \n",
       "5da536d82ca3f61c984a5b37           1.0             3.0          5.0   \n",
       "5da53a462ca3f61c6a6a1002           0.0             2.0          0.0   \n",
       "5da5cdc72ca3f61e6c0be135           0.0             1.0          0.0   \n",
       "5da5d4562ca3f6302f527c57           1.0             2.0          3.0   \n",
       "5da628e42ca3f61e9c71ade4           0.0             0.0          2.0   \n",
       "\n",
       "Action                    engagement score  \n",
       "Element Id                                  \n",
       "5a45157b1ed0725bc304d120         35.714286  \n",
       "5a45157b1ed0725bc5352b3f         50.000000  \n",
       "5a45157b1ed0725bc86d87fd         12.500000  \n",
       "5a45157b1ed0725bcb0180d2          0.000000  \n",
       "5a45157b1ed0725bcc026d8f         22.222222  \n",
       "...                                    ...  \n",
       "5da536d82ca3f61c984a5b37         66.666667  \n",
       "5da53a462ca3f61c6a6a1002          0.000000  \n",
       "5da5cdc72ca3f61e6c0be135          0.000000  \n",
       "5da5d4562ca3f6302f527c57         66.666667  \n",
       "5da628e42ca3f61e9c71ade4        100.000000  \n",
       "\n",
       "[51153 rows x 4 columns]"
      ]
     },
     "execution_count": 31,
     "metadata": {},
     "output_type": "execute_result"
    }
   ],
   "source": [
    "engage_df['engagement score'] = ((engage_df['emailOpened']+engage_df['emailClicked'])/(engage_df['emailOpened']+engage_df['emailClicked']+engage_df['emailDelivered']))*100\n",
    "engage_df"
   ]
  }
 ],
 "metadata": {
  "kernelspec": {
   "display_name": "Python 3",
   "language": "python",
   "name": "python3"
  },
  "language_info": {
   "codemirror_mode": {
    "name": "ipython",
    "version": 3
   },
   "file_extension": ".py",
   "mimetype": "text/x-python",
   "name": "python",
   "nbconvert_exporter": "python",
   "pygments_lexer": "ipython3",
   "version": "3.8.5"
  }
 },
 "nbformat": 4,
 "nbformat_minor": 5
}
